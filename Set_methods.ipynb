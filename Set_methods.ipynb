{
 "cells": [
  {
   "cell_type": "code",
   "execution_count": 30,
   "id": "f0d22b32",
   "metadata": {},
   "outputs": [],
   "source": [
    "s=set()"
   ]
  },
  {
   "cell_type": "code",
   "execution_count": 31,
   "id": "b1e95fea",
   "metadata": {},
   "outputs": [
    {
     "data": {
      "text/plain": [
       "['__and__',\n",
       " '__class__',\n",
       " '__class_getitem__',\n",
       " '__contains__',\n",
       " '__delattr__',\n",
       " '__dir__',\n",
       " '__doc__',\n",
       " '__eq__',\n",
       " '__format__',\n",
       " '__ge__',\n",
       " '__getattribute__',\n",
       " '__gt__',\n",
       " '__hash__',\n",
       " '__iand__',\n",
       " '__init__',\n",
       " '__init_subclass__',\n",
       " '__ior__',\n",
       " '__isub__',\n",
       " '__iter__',\n",
       " '__ixor__',\n",
       " '__le__',\n",
       " '__len__',\n",
       " '__lt__',\n",
       " '__ne__',\n",
       " '__new__',\n",
       " '__or__',\n",
       " '__rand__',\n",
       " '__reduce__',\n",
       " '__reduce_ex__',\n",
       " '__repr__',\n",
       " '__ror__',\n",
       " '__rsub__',\n",
       " '__rxor__',\n",
       " '__setattr__',\n",
       " '__sizeof__',\n",
       " '__str__',\n",
       " '__sub__',\n",
       " '__subclasshook__',\n",
       " '__xor__',\n",
       " 'add',\n",
       " 'clear',\n",
       " 'copy',\n",
       " 'difference',\n",
       " 'difference_update',\n",
       " 'discard',\n",
       " 'intersection',\n",
       " 'intersection_update',\n",
       " 'isdisjoint',\n",
       " 'issubset',\n",
       " 'issuperset',\n",
       " 'pop',\n",
       " 'remove',\n",
       " 'symmetric_difference',\n",
       " 'symmetric_difference_update',\n",
       " 'union',\n",
       " 'update']"
      ]
     },
     "execution_count": 31,
     "metadata": {},
     "output_type": "execute_result"
    }
   ],
   "source": [
    "dir(s)"
   ]
  },
  {
   "cell_type": "code",
   "execution_count": 32,
   "id": "df39cec9",
   "metadata": {},
   "outputs": [],
   "source": [
    "s={1,3,4}"
   ]
  },
  {
   "cell_type": "markdown",
   "id": "fdb69045",
   "metadata": {},
   "source": [
    "### add()"
   ]
  },
  {
   "cell_type": "code",
   "execution_count": 33,
   "id": "f4d8c7a9",
   "metadata": {},
   "outputs": [
    {
     "data": {
      "text/plain": [
       "{1, 3, 4, 5}"
      ]
     },
     "execution_count": 33,
     "metadata": {},
     "output_type": "execute_result"
    }
   ],
   "source": [
    "s.add(5)  #no list of elements can be added,only single.\n",
    "s"
   ]
  },
  {
   "cell_type": "markdown",
   "id": "61e0656a",
   "metadata": {},
   "source": [
    "### update()"
   ]
  },
  {
   "cell_type": "code",
   "execution_count": 34,
   "id": "f5d52dc6",
   "metadata": {},
   "outputs": [
    {
     "data": {
      "text/plain": [
       "{1, 3, 4, 5, 6, 7}"
      ]
     },
     "execution_count": 34,
     "metadata": {},
     "output_type": "execute_result"
    }
   ],
   "source": [
    "s.update([4,5,6,7])  #list of elements can be added.\n",
    "s"
   ]
  },
  {
   "cell_type": "markdown",
   "id": "95517325",
   "metadata": {},
   "source": [
    "### discard()"
   ]
  },
  {
   "cell_type": "code",
   "execution_count": 35,
   "id": "36a008bc",
   "metadata": {},
   "outputs": [
    {
     "data": {
      "text/plain": [
       "{1, 3, 4, 5, 6, 7}"
      ]
     },
     "execution_count": 35,
     "metadata": {},
     "output_type": "execute_result"
    }
   ],
   "source": [
    "s.discard(8)  #no error thrown,no list given\n",
    "s"
   ]
  },
  {
   "cell_type": "markdown",
   "id": "805dd9f4",
   "metadata": {},
   "source": [
    "### remove()"
   ]
  },
  {
   "cell_type": "code",
   "execution_count": 36,
   "id": "92b42a63",
   "metadata": {},
   "outputs": [
    {
     "ename": "KeyError",
     "evalue": "8",
     "output_type": "error",
     "traceback": [
      "\u001b[1;31m---------------------------------------------------------------------------\u001b[0m",
      "\u001b[1;31mKeyError\u001b[0m                                  Traceback (most recent call last)",
      "\u001b[1;32m~\\AppData\\Local\\Temp\\ipykernel_34440\\3324364424.py\u001b[0m in \u001b[0;36m<module>\u001b[1;34m\u001b[0m\n\u001b[1;32m----> 1\u001b[1;33m \u001b[0ms\u001b[0m\u001b[1;33m.\u001b[0m\u001b[0mremove\u001b[0m\u001b[1;33m(\u001b[0m\u001b[1;36m8\u001b[0m\u001b[1;33m)\u001b[0m  \u001b[1;31m#error thrown if element is not present,no list given\u001b[0m\u001b[1;33m\u001b[0m\u001b[1;33m\u001b[0m\u001b[0m\n\u001b[0m",
      "\u001b[1;31mKeyError\u001b[0m: 8"
     ]
    }
   ],
   "source": [
    "s.remove(8)  #error thrown if element is not present,no list given"
   ]
  },
  {
   "cell_type": "markdown",
   "id": "55fa505c",
   "metadata": {},
   "source": [
    "### pop()"
   ]
  },
  {
   "cell_type": "code",
   "execution_count": 37,
   "id": "3db16a8c",
   "metadata": {},
   "outputs": [
    {
     "data": {
      "text/plain": [
       "{3, 4, 5, 6, 7}"
      ]
     },
     "execution_count": 37,
     "metadata": {},
     "output_type": "execute_result"
    }
   ],
   "source": [
    "s.pop()  #remove random element\n",
    "s"
   ]
  },
  {
   "cell_type": "markdown",
   "id": "064dbff6",
   "metadata": {},
   "source": [
    "### union()"
   ]
  },
  {
   "cell_type": "code",
   "execution_count": 38,
   "id": "84a3e490",
   "metadata": {},
   "outputs": [
    {
     "name": "stdout",
     "output_type": "stream",
     "text": [
      "{3, 4, 5, 6, 7, 8, 9}\n",
      "{3, 4, 5, 6, 7, 8, 9}\n"
     ]
    }
   ],
   "source": [
    "t={6,7,8,9}\n",
    "print(s.union(t))\n",
    "print(s|t)"
   ]
  },
  {
   "cell_type": "markdown",
   "id": "9df51033",
   "metadata": {},
   "source": [
    "### intersection()"
   ]
  },
  {
   "cell_type": "code",
   "execution_count": 39,
   "id": "eab8145f",
   "metadata": {},
   "outputs": [
    {
     "name": "stdout",
     "output_type": "stream",
     "text": [
      "{6, 7}\n",
      "{6, 7}\n"
     ]
    }
   ],
   "source": [
    "print(s.intersection(t))\n",
    "print(s&t)"
   ]
  },
  {
   "cell_type": "markdown",
   "id": "41862415",
   "metadata": {},
   "source": [
    "### intersection_update()"
   ]
  },
  {
   "cell_type": "code",
   "execution_count": 53,
   "id": "9f06c27f",
   "metadata": {},
   "outputs": [
    {
     "name": "stdout",
     "output_type": "stream",
     "text": [
      "{6, 7}\n",
      "{8, 9, 6, 7}\n"
     ]
    }
   ],
   "source": [
    "s={3,4,5,6,7}\n",
    "t={8,9,6,7}\n",
    "s.intersection_update(t)\n",
    "print(s)            #preserve only common elements in 1st set\n",
    "print(t)"
   ]
  },
  {
   "cell_type": "markdown",
   "id": "bf1c658f",
   "metadata": {},
   "source": [
    "### difference()"
   ]
  },
  {
   "cell_type": "code",
   "execution_count": 56,
   "id": "d6b7b474",
   "metadata": {},
   "outputs": [
    {
     "name": "stdout",
     "output_type": "stream",
     "text": [
      "{3, 4, 5}\n",
      "{3, 4, 5}\n",
      "{3, 4, 5, 6, 7}\n",
      "{8, 9, 6, 7}\n"
     ]
    }
   ],
   "source": [
    "s={3,4,5,6,7}\n",
    "t={8,9,6,7}\n",
    "print(s-t)\n",
    "print(s.difference(t))\n",
    "print(s)            \n",
    "print(t)"
   ]
  },
  {
   "cell_type": "markdown",
   "id": "736c1147",
   "metadata": {},
   "source": [
    "### difference_update()"
   ]
  },
  {
   "cell_type": "code",
   "execution_count": 46,
   "id": "9d058106",
   "metadata": {},
   "outputs": [
    {
     "name": "stdout",
     "output_type": "stream",
     "text": [
      "{3, 4, 5}\n",
      "{8, 9, 6, 7}\n"
     ]
    }
   ],
   "source": [
    "s={3,4,5,6,7}\n",
    "t={8,9,6,7}\n",
    "s.difference_update(t)\n",
    "print(s)            #remove common element from set1\n",
    "print(t)"
   ]
  },
  {
   "cell_type": "markdown",
   "id": "85baaa9f",
   "metadata": {},
   "source": [
    "### symmetric_difference()"
   ]
  },
  {
   "cell_type": "code",
   "execution_count": 41,
   "id": "c1c1a077",
   "metadata": {},
   "outputs": [
    {
     "name": "stdout",
     "output_type": "stream",
     "text": [
      "{3, 4, 5, 8, 9}\n",
      "{3, 4, 5, 8, 9}\n"
     ]
    }
   ],
   "source": [
    "print(s.symmetric_difference(t))   #return everything except intersection elements\n",
    "print(s^t)"
   ]
  },
  {
   "cell_type": "markdown",
   "id": "f5f819ef",
   "metadata": {},
   "source": [
    "### symmetric_difference_update()"
   ]
  },
  {
   "cell_type": "code",
   "execution_count": 54,
   "id": "6c855204",
   "metadata": {},
   "outputs": [
    {
     "name": "stdout",
     "output_type": "stream",
     "text": [
      "{3, 4, 5, 8, 9}\n",
      "{8, 9, 6, 7}\n"
     ]
    }
   ],
   "source": [
    "s={3,4,5,6,7}\n",
    "t={8,9,6,7}\n",
    "s.symmetric_difference_update(t)\n",
    "print(s)            #remove common elements from 1st set and add remaining elements of other set.\n",
    "print(t)"
   ]
  },
  {
   "cell_type": "markdown",
   "id": "2cbfb45f",
   "metadata": {},
   "source": [
    "### issubset()"
   ]
  },
  {
   "cell_type": "code",
   "execution_count": 42,
   "id": "4fe68484",
   "metadata": {},
   "outputs": [
    {
     "data": {
      "text/plain": [
       "True"
      ]
     },
     "execution_count": 42,
     "metadata": {},
     "output_type": "execute_result"
    }
   ],
   "source": [
    "z={3,4}\n",
    "z.issubset(s)"
   ]
  },
  {
   "cell_type": "markdown",
   "id": "3a354110",
   "metadata": {},
   "source": [
    "### issuperset()"
   ]
  },
  {
   "cell_type": "code",
   "execution_count": 43,
   "id": "a0036d72",
   "metadata": {},
   "outputs": [
    {
     "data": {
      "text/plain": [
       "True"
      ]
     },
     "execution_count": 43,
     "metadata": {},
     "output_type": "execute_result"
    }
   ],
   "source": [
    "s.issuperset(z)"
   ]
  },
  {
   "cell_type": "markdown",
   "id": "272c92d8",
   "metadata": {},
   "source": [
    "### isdisjoint()"
   ]
  },
  {
   "cell_type": "code",
   "execution_count": 64,
   "id": "09236f1f",
   "metadata": {},
   "outputs": [
    {
     "data": {
      "text/plain": [
       "True"
      ]
     },
     "execution_count": 64,
     "metadata": {},
     "output_type": "execute_result"
    }
   ],
   "source": [
    "e={1,2,3}\n",
    "f={4,5}\n",
    "e.isdisjoint(f)"
   ]
  },
  {
   "cell_type": "markdown",
   "id": "d33127ec",
   "metadata": {},
   "source": [
    "### copy()"
   ]
  },
  {
   "cell_type": "code",
   "execution_count": 63,
   "id": "4311216c",
   "metadata": {},
   "outputs": [
    {
     "name": "stdout",
     "output_type": "stream",
     "text": [
      "{9, 5, 6, 7}\n",
      "{9, 5, 6, 7}\n",
      "****\n",
      "{8, 5, 6, 7}\n",
      "{9, 5, 6, 7}\n"
     ]
    }
   ],
   "source": [
    "z={5,6,7}\n",
    "t=z\n",
    "s=z.copy()\n",
    "t.add(9)\n",
    "print(t)\n",
    "print(z)\n",
    "print(\"****\")\n",
    "s.add(8)\n",
    "print(s)       #copy() ied set won't have affect on original set\n",
    "print(z)"
   ]
  },
  {
   "cell_type": "markdown",
   "id": "073e9b11",
   "metadata": {},
   "source": [
    "### clear()"
   ]
  },
  {
   "cell_type": "code",
   "execution_count": 66,
   "id": "1fe9c7f2",
   "metadata": {},
   "outputs": [
    {
     "data": {
      "text/plain": [
       "set()"
      ]
     },
     "execution_count": 66,
     "metadata": {},
     "output_type": "execute_result"
    }
   ],
   "source": [
    "s={1,2,3}\n",
    "s.clear()\n",
    "s"
   ]
  },
  {
   "cell_type": "code",
   "execution_count": null,
   "id": "a1b0c45a",
   "metadata": {},
   "outputs": [],
   "source": []
  }
 ],
 "metadata": {
  "kernelspec": {
   "display_name": "Python 3 (ipykernel)",
   "language": "python",
   "name": "python3"
  },
  "language_info": {
   "codemirror_mode": {
    "name": "ipython",
    "version": 3
   },
   "file_extension": ".py",
   "mimetype": "text/x-python",
   "name": "python",
   "nbconvert_exporter": "python",
   "pygments_lexer": "ipython3",
   "version": "3.9.13"
  }
 },
 "nbformat": 4,
 "nbformat_minor": 5
}
